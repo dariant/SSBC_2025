{
 "cells": [
  {
   "cell_type": "code",
   "execution_count": null,
   "metadata": {},
   "outputs": [
    {
     "name": "stdout",
     "output_type": "stream",
     "text": [
      "train dir: /home/darian/Desktop/SSBC_2025/OCULAR_DATASETS/Synthetic_datasets/CrossEyed_RGB-NIR-Label_5000_500_400x300/training_5000\n",
      "Number of train samples 5000\n",
      "val dir: /home/darian/Desktop/SSBC_2025/OCULAR_DATASETS/Synthetic_datasets/CrossEyed_RGB-NIR-Label_5000_500_400x300/validation_500\n",
      "Number of val samples 500\n",
      "cuda:0\n",
      "Train...\n",
      "Epoch 1/50\n",
      "----------\n",
      "  0%|                                                   | 0/625 [00:00<?, ?it/s]torch.Size([3, 300, 400])\n",
      "Label: torch.Size([3, 300, 400])\n",
      "new label: torch.Size([300, 400])\n",
      "torch.Size([3, 300, 400])\n",
      "tensor([  0, 255], dtype=torch.uint8)\n",
      "None\n",
      "Label: torch.Size([3, 300, 400])\n",
      "new label: torch.Size([300, 400])\n",
      "tensor([  0, 255], dtype=torch.uint8)\n",
      "None\n",
      "  0%|                                                   | 0/625 [00:00<?, ?it/s]\n",
      "Traceback (most recent call last):\n",
      "  File \"/home/darian/miniconda3/envs/ArcBiFaceGAN/lib/python3.8/site-packages/torch/utils/data/dataloader.py\", line 986, in _try_get_data\n",
      "    data = self._data_queue.get(timeout=timeout)\n",
      "  File \"/home/darian/miniconda3/envs/ArcBiFaceGAN/lib/python3.8/multiprocessing/queues.py\", line 107, in get\n",
      "    if not self._poll(timeout):\n",
      "  File \"/home/darian/miniconda3/envs/ArcBiFaceGAN/lib/python3.8/multiprocessing/connection.py\", line 257, in poll\n",
      "    return self._poll(timeout)\n",
      "  File \"/home/darian/miniconda3/envs/ArcBiFaceGAN/lib/python3.8/multiprocessing/connection.py\", line 424, in _poll\n",
      "    r = wait([self], timeout)\n",
      "  File \"/home/darian/miniconda3/envs/ArcBiFaceGAN/lib/python3.8/multiprocessing/connection.py\", line 931, in wait\n",
      "    ready = selector.select(timeout)\n",
      "  File \"/home/darian/miniconda3/envs/ArcBiFaceGAN/lib/python3.8/selectors.py\", line 415, in select\n",
      "    fd_event_list = self._selector.poll(timeout)\n",
      "  File \"/home/darian/miniconda3/envs/ArcBiFaceGAN/lib/python3.8/site-packages/torch/utils/data/_utils/signal_handling.py\", line 66, in handler\n",
      "    _error_if_any_worker_fails()\n",
      "RuntimeError: DataLoader worker (pid 511354) exited unexpectedly with exit code 1. Details are lost due to multiprocessing. Rerunning with num_workers=0 may give better error trace.\n",
      "\n",
      "The above exception was the direct cause of the following exception:\n",
      "\n",
      "Traceback (most recent call last):\n",
      "  File \"train_DeepLab.py\", line 214, in <module>\n",
      "    main(cfg)\n",
      "  File \"train_DeepLab.py\", line 206, in main\n",
      "    train_model(net, args.num_classes, dataloaders_dict, \n",
      "  File \"train_DeepLab.py\", line 76, in train_model\n",
      "    for inputs, labels in tqdm(dataloaders[phase]):\n",
      "  File \"/home/darian/miniconda3/envs/ArcBiFaceGAN/lib/python3.8/site-packages/tqdm/std.py\", line 1185, in __iter__\n",
      "    for obj in iterable:\n",
      "  File \"/home/darian/miniconda3/envs/ArcBiFaceGAN/lib/python3.8/site-packages/torch/utils/data/dataloader.py\", line 517, in __next__\n",
      "    data = self._next_data()\n",
      "  File \"/home/darian/miniconda3/envs/ArcBiFaceGAN/lib/python3.8/site-packages/torch/utils/data/dataloader.py\", line 1182, in _next_data\n",
      "    idx, data = self._get_data()\n",
      "  File \"/home/darian/miniconda3/envs/ArcBiFaceGAN/lib/python3.8/site-packages/torch/utils/data/dataloader.py\", line 1148, in _get_data\n",
      "    success, data = self._try_get_data()\n",
      "  File \"/home/darian/miniconda3/envs/ArcBiFaceGAN/lib/python3.8/site-packages/torch/utils/data/dataloader.py\", line 999, in _try_get_data\n",
      "    raise RuntimeError('DataLoader worker (pid(s) {}) exited unexpectedly'.format(pids_str)) from e\n",
      "RuntimeError: DataLoader worker (pid(s) 511354) exited unexpectedly\n"
     ]
    }
   ],
   "source": [
    "!python train_DeepLab.py "
   ]
  },
  {
   "cell_type": "code",
   "execution_count": 4,
   "metadata": {},
   "outputs": [
    {
     "name": "stdout",
     "output_type": "stream",
     "text": [
      "val dir: /home/darian/Desktop/SSBC_2025/OCULAR_DATASETS/SBVPI_300x400\n",
      "Number of val samples 1840\n",
      "Test...\n",
      "Which classes: [0, 1]\n",
      "Test model\n",
      "1021it [01:12, 13.99it/s]\n",
      "Traceback (most recent call last):\n",
      "  File \"test_DeepLab.py\", line 96, in <module>\n",
      "    main(cfg)\n",
      "  File \"test_DeepLab.py\", line 85, in main\n",
      "    ious, f1s, total_errors = test_models(net, dataloaders_dict, device, args.resume_where, \n",
      "  File \"test_DeepLab.py\", line 34, in test_models\n",
      "    outputs = model(inputs)['out']        \n",
      "  File \"/home/darian/miniconda3/envs/ArcBiFaceGAN/lib/python3.8/site-packages/torch/nn/modules/module.py\", line 889, in _call_impl\n",
      "    result = self.forward(*input, **kwargs)\n",
      "  File \"/home/darian/miniconda3/envs/ArcBiFaceGAN/lib/python3.8/site-packages/torchvision/models/segmentation/_utils.py\", line 19, in forward\n",
      "    features = self.backbone(x)\n",
      "  File \"/home/darian/miniconda3/envs/ArcBiFaceGAN/lib/python3.8/site-packages/torch/nn/modules/module.py\", line 889, in _call_impl\n",
      "    result = self.forward(*input, **kwargs)\n",
      "  File \"/home/darian/miniconda3/envs/ArcBiFaceGAN/lib/python3.8/site-packages/torchvision/models/_utils.py\", line 63, in forward\n",
      "    x = module(x)\n",
      "  File \"/home/darian/miniconda3/envs/ArcBiFaceGAN/lib/python3.8/site-packages/torch/nn/modules/module.py\", line 889, in _call_impl\n",
      "    result = self.forward(*input, **kwargs)\n",
      "  File \"/home/darian/miniconda3/envs/ArcBiFaceGAN/lib/python3.8/site-packages/torch/nn/modules/conv.py\", line 399, in forward\n",
      "    return self._conv_forward(input, self.weight, self.bias)\n",
      "  File \"/home/darian/miniconda3/envs/ArcBiFaceGAN/lib/python3.8/site-packages/torch/nn/modules/conv.py\", line 395, in _conv_forward\n",
      "    return F.conv2d(input, weight, bias, self.stride,\n",
      "RuntimeError: Given groups=1, weight of size [64, 3, 7, 7], expected input[1, 4, 300, 400] to have 3 channels, but got 4 channels instead\n"
     ]
    }
   ],
   "source": [
    "!python test_DeepLab.py\n"
   ]
  },
  {
   "cell_type": "code",
   "execution_count": null,
   "metadata": {},
   "outputs": [],
   "source": []
  }
 ],
 "metadata": {
  "kernelspec": {
   "display_name": "ArcBiFaceGAN",
   "language": "python",
   "name": "python3"
  },
  "language_info": {
   "codemirror_mode": {
    "name": "ipython",
    "version": 3
   },
   "file_extension": ".py",
   "mimetype": "text/x-python",
   "name": "python",
   "nbconvert_exporter": "python",
   "pygments_lexer": "ipython3",
   "version": "3.8.12"
  },
  "orig_nbformat": 4
 },
 "nbformat": 4,
 "nbformat_minor": 2
}
