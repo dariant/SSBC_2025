{
 "cells": [
  {
   "cell_type": "code",
   "execution_count": 2,
   "metadata": {},
   "outputs": [],
   "source": [
    "\n",
    "from PIL import Image\n",
    "from tqdm import tqdm \n",
    "import os \n",
    "import numpy as np \n"
   ]
  },
  {
   "cell_type": "code",
   "execution_count": null,
   "metadata": {},
   "outputs": [
    {
     "name": "stderr",
     "output_type": "stream",
     "text": [
      " 95%|█████████▍| 52/55 [01:04<00:04,  1.47s/it]"
     ]
    },
    {
     "name": "stdout",
     "output_type": "stream",
     "text": [
      "wow\n",
      "/media/darian/Storage_0/Ocular_datasets/ocular_datasets/SBVPI/3000x1700/34/34L_r_3.png\n"
     ]
    },
    {
     "name": "stderr",
     "output_type": "stream",
     "text": [
      " 98%|█████████▊| 54/55 [01:06<00:01,  1.42s/it]"
     ]
    },
    {
     "name": "stdout",
     "output_type": "stream",
     "text": [
      "wow\n",
      "/media/darian/Storage_0/Ocular_datasets/ocular_datasets/SBVPI/3000x1700/35/35R_u_4.png\n"
     ]
    },
    {
     "name": "stderr",
     "output_type": "stream",
     "text": [
      "100%|██████████| 55/55 [01:07<00:00,  1.24s/it]\n"
     ]
    }
   ],
   "source": [
    "\n",
    "parent_folder = \"/media/darian/Storage_0/Ocular_datasets/ocular_datasets/SBVPI/3000x1700\"\n",
    "\n",
    "height, width = 400, 300\n",
    "destination_folder = f\"SBVPI_{width}x{height}/images/\"\n",
    "os.makedirs(destination_folder, exist_ok=True)\n",
    "\n",
    "original_segments = [\"sclera\", \"iris\", \"pupil\", \"canthus\", \"vessels\", \"eyelashes\", \"periocular\"]\n",
    "\n",
    "subfolders = os.listdir(os.path.join(parent_folder))\n",
    "for sub in tqdm(subfolders):    \n",
    "    for img_name in os.listdir(os.path.join(parent_folder, sub)):\n",
    "        #print(img_name.split(\"_\")[-1])\n",
    "        if img_name.split(\"_\")[-1].split(\".\")[0] in original_segments:\n",
    "            continue \n",
    "        \n",
    "        img_path = os.path.join(parent_folder, sub, img_name)\n",
    "        img = Image.open(img_path)\n",
    "        # if np.asarray(img).shape[2] == 4: \n",
    "        #     print(\"wow\")\n",
    "        #     print(img_path)\n",
    "        # continue \n",
    "        img = img.resize((height, width))\n",
    "        target = os.path.join(destination_folder, f\"{sub}_{img_name}\").replace(\".jpg\", \".png\")\n",
    "\n",
    "        img.save(target,  quality=100, subsampling=0)\n",
    "        # break"
   ]
  },
  {
   "cell_type": "code",
   "execution_count": null,
   "metadata": {},
   "outputs": [],
   "source": []
  },
  {
   "cell_type": "code",
   "execution_count": null,
   "metadata": {},
   "outputs": [],
   "source": []
  },
  {
   "cell_type": "code",
   "execution_count": null,
   "metadata": {},
   "outputs": [],
   "source": []
  },
  {
   "cell_type": "code",
   "execution_count": null,
   "metadata": {},
   "outputs": [],
   "source": []
  },
  {
   "cell_type": "code",
   "execution_count": 20,
   "metadata": {},
   "outputs": [
    {
     "name": "stdout",
     "output_type": "stream",
     "text": [
      "{'44/44L_r_1': ['sclera'], '44/44R_l_1': ['sclera'], '44/44R_l_3': ['sclera'], '44/44L_l_1': ['sclera'], '44/44L_s_3': ['sclera'], '44/44R_r_3': ['sclera'], '44/44L_u_5': ['sclera'], '44/44L_r_2': ['sclera'], '44/44L_u_1': ['sclera'], '44/44L_s_4': ['sclera'], '44/44L_u_3': ['sclera'], '44/44R_r_4': ['sclera'], '44/44R_r_1': ['sclera'], '44/44R_s_3': ['sclera'], '44/44L_u_2': ['sclera'], '44/44R_l_2': ['sclera'], '44/44L_r_4': ['sclera'], '44/44R_s_1': ['sclera'], '44/44L_u_4': ['sclera'], '44/44R_u_1': ['sclera'], '44/44L_l_2': ['sclera'], '44/44R_s_4': ['sclera'], '44/44L_r_3': ['sclera'], '44/44R_u_3': ['sclera'], '44/44L_s_1': ['sclera'], '44/44L_l_4': ['sclera'], '44/44L_s_2': ['sclera'], '44/44R_u_2': ['sclera'], '44/44L_l_3': ['sclera'], '44/44R_r_2': ['sclera'], '44/44R_u_4': ['sclera'], '44/44R_s_2': ['sclera'], '44/44R_l_4': ['sclera'], '2/2R_u_1': ['sclera'], '2/2L_s_1': ['sclera'], '2/2R_l_2': ['sclera'], '2/2R_r_1': ['sclera'], '2/2R_r_2': ['sclera'], '2/2L_l_1': ['sclera'], '2/2L_r_1': ['sclera'], '2/2R_s_1': ['sclera'], '2/2L_r_2': ['sclera'], '2/2R_u_2': ['sclera'], '2/2L_u_1': ['sclera'], '2/2L_l_2': ['sclera'], '2/2R_s_2': ['sclera'], '2/2L_u_2': ['sclera'], '2/2R_l_1': ['sclera'], '2/2L_s_2': ['sclera'], '32/32R_l_1': ['sclera'], '32/32R_r_2': ['sclera'], '32/32R_r_5': ['sclera'], '32/32R_r_1': ['sclera'], '32/32R_r_6': ['sclera'], '32/32R_l_3': ['sclera'], '32/32R_s_2': ['sclera'], '32/32L_s_2': ['sclera'], '32/32L_s_3': ['sclera'], '32/32L_u_4': ['sclera'], '32/32R_r_3': ['sclera'], '32/32L_l_3': ['sclera'], '32/32R_l_2': ['sclera'], '32/32R_l_4': ['sclera'], '32/32R_r_4': ['sclera'], '32/32L_r_4': ['sclera'], '32/32L_u_2': ['sclera'], '32/32L_l_1': ['sclera'], '32/32R_s_3': ['sclera'], '32/32L_l_2': ['sclera'], '32/32L_s_1': ['sclera'], '32/32L_s_4': ['sclera'], '32/32R_s_4': ['sclera'], '32/32L_r_1': ['sclera'], '32/32R_u_2': ['sclera'], '32/32R_u_1': ['sclera'], '32/32L_r_2': ['sclera'], '32/32L_r_3': ['sclera'], '32/32R_s_1': ['sclera'], '32/32L_u_3': ['sclera'], '32/32L_u_1': ['sclera'], '32/32L_l_4': ['sclera'], '32/32R_u_4': ['sclera'], '32/32R_u_3': ['sclera'], '41/41L_u_1': ['sclera'], '41/41R_l_6': ['sclera'], '41/41R_r_4': ['sclera'], '41/41R_l_4': ['sclera'], '41/41L_r_5': ['sclera'], '41/41L_r_3': ['sclera'], '41/41R_l_2': ['sclera'], '41/41L_l_2': ['sclera'], '41/41R_u_3': ['sclera'], '41/41L_s_1': ['sclera'], '41/41R_u_1': ['sclera'], '41/41R_u_5': ['sclera'], '41/41L_u_6': ['sclera'], '41/41L_s_3': ['sclera'], '41/41R_r_1': ['sclera'], '41/41R_r_5': ['sclera'], '41/41L_s_4': ['sclera'], '41/41L_s_2': ['sclera'], '41/41R_s_3': ['sclera'], '41/41R_s_1': ['sclera'], '41/41R_s_4': ['sclera'], '41/41R_u_6': ['sclera'], '41/41L_r_4': ['sclera'], '41/41R_l_1': ['sclera'], '41/41L_u_5': ['sclera'], '41/41R_s_2': ['sclera'], '41/41R_u_4': ['sclera'], '41/41L_l_4': ['sclera'], '41/41R_l_3': ['sclera'], '41/41L_u_3': ['sclera'], '41/41R_u_2': ['sclera'], '41/41R_r_2': ['sclera'], '41/41R_l_5': ['sclera'], '41/41L_r_1': ['sclera'], '41/41L_l_1': ['sclera'], '41/41L_l_3': ['sclera'], '41/41L_r_2': ['sclera'], '41/41L_u_4': ['sclera'], '41/41R_r_3': ['sclera'], '41/41L_u_2': ['sclera'], '4/4R_r_1': ['sclera'], '4/4L_l_2': ['sclera'], '4/4R_u_2': ['sclera'], '4/4L_u_2': ['sclera'], '4/4R_l_1': ['sclera'], '4/4R_u_1': ['sclera'], '4/4L_u_1': ['sclera'], '4/4R_s_2': ['sclera'], '4/4L_s_2': ['sclera'], '4/4L_r_1': ['sclera'], '4/4R_r_2': ['sclera'], '4/4L_s_1': ['sclera'], '4/4L_r_2': ['sclera'], '4/4R_s_1': ['sclera'], '4/4L_l_1': ['sclera'], '4/4R_l_2': ['sclera'], '40/40L_u_2': ['sclera'], '40/40L_r_5': ['sclera'], '40/40R_s_4': ['sclera'], '40/40R_s_1': ['sclera'], '40/40R_r_5': ['sclera'], '40/40R_u_2': ['sclera'], '40/40R_r_3': ['sclera'], '40/40L_s_3': ['sclera'], '40/40L_u_3': ['sclera'], '40/40R_u_1': ['sclera'], '40/40L_s_1': ['sclera'], '40/40R_u_4': ['sclera'], '40/40L_s_2': ['sclera'], '40/40L_l_1': ['sclera'], '40/40L_r_4': ['sclera'], '40/40L_r_3': ['sclera'], '40/40R_r_4': ['sclera'], '40/40R_l_1': ['sclera'], '40/40R_r_1': ['sclera'], '40/40R_u_3': ['sclera'], '40/40R_l_2': ['sclera'], '40/40R_s_2': ['sclera'], '40/40L_l_3': ['sclera'], '40/40L_l_4': ['sclera'], '40/40L_r_1': ['sclera'], '40/40R_l_3': ['sclera'], '40/40L_l_2': ['sclera'], '40/40R_l_4': ['sclera'], '40/40L_s_4': ['sclera'], '40/40L_u_1': ['sclera'], '40/40R_s_3': ['sclera'], '40/40L_r_2': ['sclera'], '40/40L_u_4': ['sclera'], '40/40R_r_2': ['sclera'], '16/16R_u_3': ['sclera'], '16/16L_l_4': ['sclera'], '16/16L_l_3': ['sclera'], '16/16L_s_3': ['sclera'], '16/16L_r_3': ['sclera'], '16/16R_r_3': ['sclera'], '16/16L_s_1': ['sclera'], '16/16R_u_1': ['sclera'], '16/16L_u_2': ['sclera'], '16/16L_s_2': ['sclera'], '16/16R_l_3': ['sclera'], '16/16R_s_2': ['sclera'], '16/16R_l_2': ['sclera'], '16/16L_r_1': ['sclera'], '16/16L_u_4': ['sclera'], '16/16R_l_1': ['sclera'], '16/16R_s_4': ['sclera'], '16/16L_s_4': ['sclera'], '16/16R_u_2': ['sclera'], '16/16L_r_4': ['sclera'], '16/16L_l_1': ['sclera'], '16/16L_r_2': ['sclera'], '16/16R_r_1': ['sclera'], '16/16R_l_4': ['sclera'], '16/16R_r_4': ['sclera'], '16/16L_l_2': ['sclera'], '16/16L_u_1': ['sclera'], '16/16R_s_1': ['sclera'], '16/16R_s_3': ['sclera'], '16/16R_r_2': ['sclera'], '16/16L_u_3': ['sclera'], '16/16R_u_4': ['sclera'], '25/25R_r_4': ['sclera'], '25/25R_r_2': ['sclera'], '25/25R_u_4': ['sclera'], '25/25L_s_4': ['sclera'], '25/25R_l_1': ['sclera'], '25/25R_l_4': ['sclera'], '25/25L_r_2': ['sclera'], '25/25L_r_1': ['sclera'], '25/25R_u_1': ['sclera'], '25/25L_r_3': ['sclera'], '25/25L_l_2': ['sclera'], '25/25L_l_4': ['sclera'], '25/25R_l_3': ['sclera'], '25/25L_l_1': ['sclera'], '25/25L_u_2': ['sclera'], '25/25R_s_1': ['sclera'], '25/25R_s_3': ['sclera'], '25/25R_r_3': ['sclera'], '25/25L_l_3': ['sclera'], '25/25R_r_1': ['sclera'], '25/25L_s_1': ['sclera'], '25/25L_u_1': ['sclera'], '25/25R_u_3': ['sclera'], '25/25R_l_2': ['sclera'], '25/25R_s_2': ['sclera'], '25/25R_s_4': ['sclera'], '25/25L_s_3': ['sclera'], '25/25L_s_2': ['sclera'], '25/25L_u_3': ['sclera'], '25/25R_u_2': ['sclera'], '25/25L_u_4': ['sclera'], '25/25L_r_4': ['sclera'], '36/36R_l_1': ['sclera'], '36/36L_s_3': ['sclera'], '36/36L_r_2': ['sclera'], '36/36L_l_3': ['sclera'], '36/36R_u_3': ['sclera'], '36/36R_l_2': ['sclera'], '36/36R_s_4': ['sclera'], '36/36L_r_4': ['sclera'], '36/36R_u_2': ['sclera'], '36/36L_l_2': ['sclera'], '36/36R_s_3': ['sclera'], '36/36L_r_3': ['sclera'], '36/36R_u_1': ['sclera'], '36/36R_r_3': ['sclera'], '36/36L_s_4': ['sclera'], '36/36L_l_1': ['sclera'], '36/36R_u_5': ['sclera'], '36/36R_s_2': ['sclera'], '36/36R_s_1': ['sclera'], '36/36L_u_2': ['sclera'], '36/36L_s_1': ['sclera'], '36/36L_u_1': ['sclera'], '36/36R_r_4': ['sclera'], '36/36R_u_4': ['sclera'], '36/36L_l_4': ['sclera'], '36/36R_r_1': ['sclera'], '36/36R_l_4': ['sclera'], '36/36R_s_5': ['sclera'], '36/36L_u_4': ['sclera'], '36/36L_s_2': ['sclera'], '36/36L_u_3': ['sclera'], '36/36R_r_2': ['sclera'], '36/36R_l_3': ['sclera'], '36/36L_r_1': ['sclera'], '9/9L_l_1': ['sclera'], '9/9L_u_1': ['sclera'], '9/9L_u_2': ['sclera'], '9/9L_s_1': ['sclera'], '9/9L_l_2': ['sclera'], '9/9R_s_1': ['sclera'], '9/9R_s_2': ['sclera'], '9/9R_l_1': ['sclera'], '9/9R_l_2': ['sclera'], '9/9L_r_2': ['sclera'], '9/9L_s_2': ['sclera'], '9/9L_r_1': ['sclera'], '9/9R_r_1': ['sclera'], '9/9R_r_2': ['sclera'], '9/9R_u_2': ['sclera'], '9/9R_u_1': ['sclera'], '23/23L_u_4': ['sclera'], '23/23R_l_1': ['sclera'], '23/23L_s_1': ['sclera'], '23/23L_s_3': ['sclera'], '23/23L_s_4': ['sclera'], '23/23L_r_3': ['sclera'], '23/23R_s_3': ['sclera'], '23/23R_l_2': ['sclera'], '23/23L_u_1': ['sclera'], '23/23L_l_1': ['sclera'], '23/23L_s_5': ['sclera'], '23/23R_r_1': ['sclera'], '23/23L_u_2': ['sclera'], '23/23L_l_4': ['sclera'], '23/23L_u_3': ['sclera'], '23/23R_u_3': ['sclera'], '23/23R_r_2': ['sclera'], '23/23R_r_4': ['sclera'], '23/23L_r_4': ['sclera'], '23/23R_u_1': ['sclera'], '23/23L_r_1': ['sclera'], '23/23R_s_2': ['sclera'], '23/23L_l_2': ['sclera'], '23/23L_s_2': ['sclera'], '23/23R_u_2': ['sclera'], '23/23R_l_4': ['sclera'], '23/23R_s_4': ['sclera'], '23/23R_s_1': ['sclera'], '23/23R_l_3': ['sclera'], '23/23R_s_5': ['sclera'], '23/23L_s_6': ['sclera'], '23/23R_r_3': ['sclera'], '23/23L_l_3': ['sclera'], '23/23L_r_2': ['sclera'], '23/23R_u_4': ['sclera'], '42/42R_s_1': ['sclera'], '42/42R_l_1': ['sclera'], '42/42R_u_3': ['sclera'], '42/42R_s_2': ['sclera'], '42/42R_r_3': ['sclera'], '42/42R_s_3': ['sclera'], '42/42R_l_4': ['sclera'], '42/42L_s_2': ['sclera'], '42/42L_s_3': ['sclera'], '42/42R_r_4': ['sclera'], '42/42L_u_1': ['sclera'], '42/42L_l_2': ['sclera'], '42/42L_u_3': ['sclera'], '42/42L_u_5': ['sclera'], '42/42R_u_1': ['sclera'], '42/42L_l_1': ['sclera'], '42/42L_r_1': ['sclera'], '42/42R_r_2': ['sclera'], '42/42L_l_3': ['sclera'], '42/42R_u_2': ['sclera'], '42/42R_u_4': ['sclera'], '42/42L_r_2': ['sclera'], '42/42R_r_1': ['sclera'], '42/42L_r_4': ['sclera'], '42/42R_l_2': ['sclera'], '42/42R_l_3': ['sclera'], '42/42L_u_4': ['sclera'], '42/42L_s_4': ['sclera'], '42/42R_s_5': ['sclera'], '42/42R_s_4': ['sclera'], '42/42L_u_2': ['sclera'], '42/42L_r_3': ['sclera'], '42/42L_l_4': ['sclera'], '42/42L_s_1': ['sclera'], '33/33R_u_1': ['sclera'], '33/33R_s_3': ['sclera'], '33/33L_l_4': ['sclera'], '33/33L_l_6': ['sclera'], '33/33L_s_2': ['sclera'], '33/33L_r_1': ['sclera'], '33/33L_r_2': ['sclera'], '33/33R_u_3': ['sclera'], '33/33R_l_1': ['sclera'], '33/33L_l_2': ['sclera'], '33/33L_s_4': ['sclera'], '33/33R_l_3': ['sclera'], '33/33R_l_2': ['sclera'], '33/33L_l_1': ['sclera'], '33/33R_r_5': ['sclera'], '33/33L_u_4': ['sclera'], '33/33L_u_3': ['sclera'], '33/33L_s_1': ['sclera'], '33/33L_u_1': ['sclera'], '33/33R_r_1': ['sclera'], '33/33R_u_5': ['sclera'], '33/33L_r_3': ['sclera'], '33/33R_l_4': ['sclera'], '33/33R_u_2': ['sclera'], '33/33L_l_5': ['sclera'], '33/33L_u_5': ['sclera'], '33/33L_r_4': ['sclera'], '33/33L_r_5': ['sclera'], '33/33R_s_1': ['sclera'], '33/33R_r_4': ['sclera'], '33/33R_s_2': ['sclera'], '33/33R_r_2': ['sclera'], '33/33R_u_4': ['sclera'], '33/33R_r_3': ['sclera'], '33/33L_u_2': ['sclera'], '33/33L_s_3': ['sclera'], '33/33R_s_4': ['sclera'], '33/33L_l_3': ['sclera'], '28/28L_u_3': ['sclera'], '28/28L_s_1': ['sclera'], '28/28R_r_1': ['sclera'], '28/28L_l_3': ['sclera'], '28/28R_u_2': ['sclera'], '28/28R_l_1': ['sclera'], '28/28L_r_1': ['sclera'], '28/28R_l_3': ['sclera'], '28/28L_l_1': ['sclera'], '28/28R_u_1': ['sclera'], '28/28R_s_2': ['sclera'], '28/28L_l_2': ['sclera'], '28/28L_l_4': ['sclera'], '28/28R_r_3': ['sclera'], '28/28L_u_1': ['sclera'], '28/28L_s_2': ['sclera'], '28/28L_r_4': ['sclera'], '28/28R_u_3': ['sclera'], '28/28L_u_2': ['sclera'], '28/28R_r_2': ['sclera'], '28/28L_r_2': ['sclera'], '28/28R_r_4': ['sclera'], '28/28R_s_4': ['sclera'], '28/28R_s_3': ['sclera'], '28/28R_l_2': ['sclera'], '28/28L_u_4': ['sclera'], '28/28L_r_3': ['sclera'], '28/28R_u_4': ['sclera'], '28/28L_s_4': ['sclera'], '28/28L_s_3': ['sclera'], '28/28R_s_1': ['sclera'], '1/1R_s_2': ['sclera'], '1/1L_u_1': ['sclera'], '1/1L_l_1': ['sclera'], '1/1R_l_3': ['sclera'], '1/1R_r_3': ['sclera'], '1/1L_s_4': ['sclera'], '1/1L_l_2': ['sclera'], '1/1R_l_2': ['sclera'], '1/1R_l_1': ['sclera'], '1/1R_s_4': ['sclera'], '1/1R_s_1': ['sclera'], '1/1L_r_4': ['sclera'], '1/1R_r_2': ['sclera'], '1/1R_l_4': ['sclera'], '1/1L_r_1': ['sclera'], '1/1L_l_3': ['sclera'], '1/1R_u_2': ['sclera'], '1/1R_u_3': ['sclera'], '1/1L_l_4': ['sclera'], '1/1R_u_1': ['sclera'], '1/1R_r_1': ['sclera'], '1/1L_s_1': ['sclera'], '1/1L_s_3': ['sclera'], '1/1L_s_2': ['sclera'], '1/1L_u_4': ['sclera'], '1/1L_r_3': ['sclera'], '1/1R_u_4': ['sclera'], '1/1L_u_2': ['sclera'], '1/1L_r_2': ['sclera'], '1/1R_s_3': ['sclera'], '1/1L_u_3': ['sclera'], '1/1R_r_4': ['sclera'], '15/15R_u_6': ['sclera'], '15/15L_u_4': ['sclera'], '15/15L_r_5': ['sclera'], '15/15R_u_1': ['sclera'], '15/15L_l_2': ['sclera'], '15/15L_r_1': ['sclera'], '15/15R_s_4': ['sclera'], '15/15L_r_2': ['sclera'], '15/15R_s_1': ['sclera'], '15/15L_s_4': ['sclera'], '15/15L_u_3': ['sclera'], '15/15L_r_4': ['sclera'], '15/15R_u_2': ['sclera'], '15/15R_r_1': ['sclera'], '15/15L_s_1': ['sclera'], '15/15L_s_2': ['sclera'], '15/15R_l_4': ['sclera'], '15/15R_u_3': ['sclera'], '15/15R_r_3': ['sclera'], '15/15R_r_4': ['sclera'], '15/15L_s_3': ['sclera'], '15/15L_u_1': ['sclera'], '15/15R_r_2': ['sclera'], '15/15L_r_3': ['sclera'], '15/15R_l_3': ['sclera'], '15/15R_l_2': ['sclera'], '15/15L_l_3': ['sclera'], '15/15R_u_5': ['sclera'], '15/15R_l_1': ['sclera'], '15/15R_s_3': ['sclera'], '15/15L_u_2': ['sclera'], '15/15L_l_1': ['sclera'], '15/15R_u_4': ['sclera'], '15/15R_s_2': ['sclera'], '18/18R_l_1': ['sclera'], '18/18L_s_3': ['sclera'], '18/18L_l_4': ['sclera'], '18/18R_s_1': ['sclera'], '18/18R_r_1': ['sclera'], '18/18R_r_3': ['sclera'], '18/18L_l_3': ['sclera'], '18/18L_u_2': ['sclera'], '18/18L_r_1': ['sclera'], '18/18R_l_4': ['sclera'], '18/18L_s_1': ['sclera'], '18/18R_r_2': ['sclera'], '18/18L_l_2': ['sclera'], '18/18R_u_4': ['sclera'], '18/18R_l_3': ['sclera'], '18/18R_l_2': ['sclera'], '18/18L_s_2': ['sclera'], '18/18R_s_2': ['sclera'], '18/18R_u_1': ['sclera'], '18/18R_u_3': ['sclera'], '18/18L_u_3': ['sclera'], '18/18L_r_3': ['sclera'], '18/18L_u_4': ['sclera'], '18/18R_s_3': ['sclera'], '18/18R_s_4': ['sclera'], '18/18L_l_1': ['sclera'], '18/18R_r_4': ['sclera'], '18/18L_s_4': ['sclera'], '18/18L_r_5': ['sclera'], '18/18L_r_2': ['sclera'], '18/18R_u_2': ['sclera'], '18/18L_u_1': ['sclera'], '45/45R_l_1': ['sclera'], '45/45L_r_4': ['sclera'], '45/45R_s_4': ['sclera'], '45/45L_s_5': ['sclera'], '45/45L_s_2': ['sclera'], '45/45L_u_1': ['sclera'], '45/45R_s_2': ['sclera'], '45/45R_s_1': ['sclera'], '45/45R_r_4': ['sclera'], '45/45R_s_5': ['sclera'], '45/45L_r_3': ['sclera'], '45/45L_r_1': ['sclera'], '45/45L_l_1': ['sclera'], '45/45L_l_3': ['sclera'], '45/45R_l_2': ['sclera'], '45/45R_u_3': ['sclera'], '45/45L_l_4': ['sclera'], '45/45R_u_4': ['sclera'], '45/45R_r_2': ['sclera'], '45/45R_s_3': ['sclera'], '45/45R_u_1': ['sclera'], '45/45L_u_3': ['sclera'], '45/45L_s_1': ['sclera'], '45/45L_s_3': ['sclera'], '45/45R_l_3': ['sclera'], '45/45R_l_5': ['sclera'], '45/45R_r_3': ['sclera'], '45/45L_l_2': ['sclera'], '45/45L_u_2': ['sclera'], '45/45R_u_2': ['sclera'], '45/45L_s_4': ['sclera'], '45/45L_u_4': ['sclera'], '45/45L_r_2': ['sclera'], '45/45R_l_4': ['sclera'], '45/45R_r_1': ['sclera'], '11/11R_r_1': ['sclera'], '11/11R_r_4': ['sclera'], '11/11L_s_4': ['sclera'], '11/11R_l_1': ['sclera'], '11/11R_r_2': ['sclera'], '11/11L_s_1': ['sclera'], '11/11L_r_1': ['sclera'], '11/11R_s_1': ['sclera'], '11/11L_l_1': ['sclera'], '11/11L_r_3': ['sclera'], '11/11R_l_3': ['sclera'], '11/11L_u_1': ['sclera'], '11/11L_u_2': ['sclera'], '11/11L_s_3': ['sclera'], '11/11R_s_3': ['sclera'], '11/11L_u_4': ['sclera'], '11/11R_u_3': ['sclera'], '11/11L_u_3': ['sclera'], '11/11L_r_2': ['sclera'], '11/11R_l_2': ['sclera'], '11/11L_l_3': ['sclera'], '11/11R_r_3': ['sclera'], '11/11R_l_4': ['sclera'], '11/11L_r_4': ['sclera'], '11/11R_s_5': ['sclera'], '11/11R_u_2': ['sclera'], '11/11L_l_4': ['sclera'], '11/11R_u_1': ['sclera'], '11/11R_s_4': ['sclera'], '11/11L_l_2': ['sclera'], '11/11R_s_2': ['sclera'], '11/11R_u_4': ['sclera'], '11/11L_s_2': ['sclera'], '8/8L_l_1': ['sclera'], '8/8L_s_1': ['sclera'], '8/8R_r_1': ['sclera'], '8/8L_u_2': ['sclera'], '8/8L_l_3': ['sclera'], '8/8R_s_2': ['sclera'], '8/8R_u_2': ['sclera'], '8/8R_r_3': ['sclera'], '8/8L_r_1': ['sclera'], '8/8L_l_2': ['sclera'], '8/8L_u_1': ['sclera'], '8/8R_l_1': ['sclera'], '8/8R_l_2': ['sclera'], '8/8R_s_1': ['sclera'], '8/8R_r_2': ['sclera'], '8/8L_s_2': ['sclera'], '8/8R_u_1': ['sclera'], '8/8L_r_2': ['sclera'], '3/3L_s_3': ['sclera'], '3/3L_l_1': ['sclera'], '3/3R_r_3': ['sclera'], '3/3L_u_2': ['sclera'], '3/3L_l_2': ['sclera'], '3/3R_l_2': ['sclera'], '3/3L_l_4': ['sclera'], '3/3R_r_2': ['sclera'], '3/3R_s_4': ['sclera'], '3/3R_u_3': ['sclera'], '3/3R_u_2': ['sclera'], '3/3L_r_1': ['sclera'], '3/3R_r_4': ['sclera'], '3/3L_u_1': ['sclera'], '3/3R_r_1': ['sclera'], '3/3L_r_4': ['sclera'], '3/3R_s_2': ['sclera'], '3/3L_u_4': ['sclera'], '3/3R_u_1': ['sclera'], '3/3R_l_4': ['sclera'], '3/3R_l_3': ['sclera'], '3/3L_s_4': ['sclera'], '3/3L_s_2': ['sclera'], '3/3R_u_4': ['sclera'], '3/3L_r_2': ['sclera'], '3/3L_l_3': ['sclera'], '3/3L_r_3': ['sclera'], '3/3L_u_3': ['sclera'], '3/3L_s_1': ['sclera'], '3/3R_l_1': ['sclera'], '3/3R_s_3': ['sclera'], '3/3R_s_1': ['sclera'], '6/6R_l_1': ['sclera'], '6/6L_r_1': ['sclera'], '6/6L_r_2': ['sclera'], '6/6R_s_2': ['sclera'], '6/6L_s_1': ['sclera'], '6/6R_u_2': ['sclera'], '6/6R_s_3': ['sclera'], '6/6R_l_2': ['sclera'], '6/6R_r_1': ['sclera'], '6/6R_r_2': ['sclera'], '6/6L_l_1': ['sclera'], '6/6R_s_1': ['sclera'], '6/6L_u_2': ['sclera'], '6/6L_l_2': ['sclera'], '6/6L_s_2': ['sclera'], '6/6R_s_4': ['sclera'], '6/6L_u_1': ['sclera'], '6/6R_u_1': ['sclera'], '55/55L_l_5': ['sclera'], '55/55R_s_3': ['sclera'], '55/55L_l_2': ['sclera'], '55/55R_u_2': ['sclera'], '55/55R_l_4': ['sclera'], '55/55L_r_3': ['sclera'], '55/55R_l_3': ['sclera'], '55/55R_r_5': ['sclera'], '55/55L_r_4': ['sclera'], '55/55L_l_4': ['sclera'], '55/55R_l_1': ['sclera'], '55/55L_r_2': ['sclera'], '55/55L_u_4': ['sclera'], '55/55L_u_5': ['sclera'], '55/55R_u_1': ['sclera'], '55/55L_s_1': ['sclera'], '55/55L_u_2': ['sclera'], '55/55L_l_1': ['sclera'], '55/55R_r_4': ['sclera'], '55/55R_u_3': ['sclera'], '55/55R_s_4': ['sclera'], '55/55R_l_2': ['sclera'], '55/55L_u_3': ['sclera'], '55/55R_r_2': ['sclera'], '55/55L_l_3': ['sclera'], '55/55L_u_1': ['sclera'], '55/55L_s_5': ['sclera'], '55/55L_s_3': ['sclera'], '55/55R_r_1': ['sclera'], '55/55L_s_2': ['sclera'], '55/55R_s_2': ['sclera'], '55/55R_u_4': ['sclera'], '55/55L_s_4': ['sclera'], '55/55R_s_1': ['sclera'], '55/55L_r_1': ['sclera'], '55/55R_r_3': ['sclera'], '46/46R_u_2': ['sclera'], '46/46R_l_3': ['sclera'], '46/46R_r_3': ['sclera'], '46/46R_s_4': ['sclera'], '46/46R_l_1': ['sclera'], '46/46R_l_4': ['sclera'], '46/46L_r_3': ['sclera'], '46/46L_s_2': ['sclera'], '46/46R_r_5': ['sclera'], '46/46L_s_1': ['sclera'], '46/46L_s_4': ['sclera'], '46/46L_u_4': ['sclera'], '46/46L_r_4': ['sclera'], '46/46R_u_4': ['sclera'], '46/46L_u_1': ['sclera'], '46/46L_u_3': ['sclera'], '46/46R_r_1': ['sclera'], '46/46L_r_2': ['sclera'], '46/46L_l_1': ['sclera'], '46/46R_l_5': ['sclera'], '46/46R_r_2': ['sclera'], '46/46L_l_3': ['sclera'], '46/46R_s_3': ['sclera'], '46/46R_u_3': ['sclera'], '46/46L_s_3': ['sclera'], '46/46L_s_6': ['sclera'], '46/46R_u_1': ['sclera'], '46/46L_r_1': ['sclera'], '46/46R_r_4': ['sclera'], '46/46L_l_4': ['sclera'], '46/46R_s_2': ['sclera'], '46/46R_l_2': ['sclera'], '46/46L_l_2': ['sclera'], '46/46L_u_2': ['sclera'], '46/46L_s_5': ['sclera'], '46/46R_s_1': ['sclera'], '51/51R_l_4': ['sclera'], '51/51R_s_2': ['sclera'], '51/51L_l_2': ['sclera'], '51/51L_l_1': ['sclera'], '51/51L_u_3': ['sclera'], '51/51R_l_2': ['sclera'], '51/51L_u_2': ['sclera'], '51/51R_l_3': ['sclera'], '51/51L_r_4': ['sclera'], '51/51R_r_2': ['sclera'], '51/51L_s_1': ['sclera'], '51/51R_r_3': ['sclera'], '51/51L_r_2': ['sclera'], '51/51R_l_1': ['sclera'], '51/51R_u_3': ['sclera'], '51/51L_u_1': ['sclera'], '51/51R_u_2': ['sclera'], '51/51R_u_1': ['sclera'], '51/51R_r_1': ['sclera'], '51/51L_r_6': ['sclera'], '51/51L_r_1': ['sclera'], '51/51R_r_4': ['sclera'], '51/51L_u_5': ['sclera'], '51/51L_r_5': ['sclera'], '51/51R_u_5': ['sclera'], '51/51L_l_4': ['sclera'], '51/51L_r_3': ['sclera'], '51/51R_s_1': ['sclera'], '51/51L_r_7': ['sclera'], '51/51R_s_3': ['sclera'], '51/51L_l_5': ['sclera'], '51/51L_u_4': ['sclera'], '51/51L_s_2': ['sclera'], '51/51L_s_4': ['sclera'], '51/51L_s_5': ['sclera'], '51/51L_s_3': ['sclera'], '51/51R_u_4': ['sclera'], '51/51L_l_3': ['sclera'], '51/51R_s_4': ['sclera'], '17/17L_l_2': ['sclera'], '17/17L_r_2': ['sclera'], '17/17L_s_2': ['sclera'], '17/17R_l_2': ['sclera'], '17/17L_u_2': ['sclera'], '17/17L_l_3': ['sclera'], '17/17R_u_2': ['sclera'], '17/17R_s_3': ['sclera'], '17/17L_s_3': ['sclera'], '17/17L_r_4': ['sclera'], '17/17R_r_3': ['sclera'], '17/17L_l_4': ['sclera'], '17/17R_u_5': ['sclera'], '17/17L_u_4': ['sclera'], '17/17L_u_1': ['sclera'], '17/17R_r_4': ['sclera'], '17/17R_r_1': ['sclera'], '17/17R_u_3': ['sclera'], '17/17R_s_2': ['sclera'], '17/17L_l_1': ['sclera'], '17/17R_u_4': ['sclera'], '17/17R_s_1': ['sclera'], '17/17R_r_2': ['sclera'], '17/17R_l_4': ['sclera'], '17/17R_l_3': ['sclera'], '17/17L_s_1': ['sclera'], '17/17R_u_1': ['sclera'], '17/17L_s_4': ['sclera'], '17/17R_s_4': ['sclera'], '17/17R_l_1': ['sclera'], '17/17L_r_3': ['sclera'], '17/17L_r_1': ['sclera'], '17/17L_u_3': ['sclera'], '29/29L_s_6': ['sclera'], '29/29L_s_3': ['sclera'], '29/29L_l_3': ['sclera'], '29/29R_s_4': ['sclera'], '29/29R_u_3': ['sclera'], '29/29R_s_2': ['sclera'], '29/29R_r_3': ['sclera'], '29/29R_l_3': ['sclera'], '29/29L_r_1': ['sclera'], '29/29R_r_4': ['sclera'], '29/29L_l_4': ['sclera'], '29/29R_l_2': ['sclera'], '29/29L_s_1': ['sclera'], '29/29L_u_1': ['sclera'], '29/29L_s_2': ['sclera'], '29/29L_r_2': ['sclera'], '29/29L_l_2': ['sclera'], '29/29R_u_1': ['sclera'], '29/29L_r_4': ['sclera'], '29/29R_u_2': ['sclera'], '29/29L_u_4': ['sclera'], '29/29L_s_4': ['sclera'], '29/29L_u_3': ['sclera'], '29/29R_l_1': ['sclera'], '29/29R_s_1': ['sclera'], '29/29L_s_5': ['sclera'], '29/29R_s_3': ['sclera'], '29/29R_u_4': ['sclera'], '29/29R_l_4': ['sclera'], '29/29R_r_2': ['sclera'], '29/29L_l_1': ['sclera'], '29/29L_u_2': ['sclera'], '29/29L_r_3': ['sclera'], '29/29R_r_1': ['sclera'], '49/49L_r_3': ['sclera'], '49/49R_l_4': ['sclera'], '49/49L_r_5': ['sclera'], '49/49R_u_5': ['sclera'], '49/49R_s_5': ['sclera'], '49/49R_s_3': ['sclera'], '49/49R_u_3': ['sclera'], '49/49L_s_1': ['sclera'], '49/49R_r_3': ['sclera'], '49/49R_r_4': ['sclera'], '49/49R_r_2': ['sclera'], '49/49L_r_1': ['sclera'], '49/49R_u_2': ['sclera'], '49/49R_r_1': ['sclera'], '49/49R_s_2': ['sclera'], '49/49L_u_2': ['sclera'], '49/49L_u_4': ['sclera'], '49/49R_l_2': ['sclera'], '49/49L_s_3': ['sclera'], '49/49R_l_1': ['sclera'], '49/49R_s_1': ['sclera'], '49/49L_l_4': ['sclera'], '49/49L_l_2': ['sclera'], '49/49L_l_1': ['sclera'], '49/49L_u_3': ['sclera'], '49/49L_u_1': ['sclera'], '49/49R_s_6': ['sclera'], '49/49L_s_4': ['sclera'], '49/49L_r_4': ['sclera'], '49/49R_u_1': ['sclera'], '49/49R_l_3': ['sclera'], '49/49R_s_4': ['sclera'], '49/49L_s_2': ['sclera'], '49/49L_l_3': ['sclera'], '49/49R_u_4': ['sclera'], '49/49L_r_2': ['sclera'], '52/52R_l_2': ['sclera'], '52/52L_s_4': ['sclera'], '52/52R_r_1': ['sclera'], '52/52L_r_2': ['sclera'], '52/52R_l_3': ['sclera'], '52/52R_r_4': ['sclera'], '52/52L_r_4': ['sclera'], '52/52R_l_1': ['sclera'], '52/52L_s_2': ['sclera'], '52/52L_l_2': ['sclera'], '52/52R_u_1': ['sclera'], '52/52L_r_3': ['sclera'], '52/52R_u_3': ['sclera'], '52/52L_s_1': ['sclera'], '52/52R_s_2': ['sclera'], '52/52L_u_3': ['sclera'], '52/52R_s_5': ['sclera'], '52/52R_s_1': ['sclera'], '52/52L_l_1': ['sclera'], '52/52R_s_3': ['sclera'], '52/52L_s_3': ['sclera'], '52/52L_u_1': ['sclera'], '52/52L_u_2': ['sclera'], '52/52R_u_2': ['sclera'], '52/52R_l_4': ['sclera'], '52/52R_r_3': ['sclera'], '52/52L_u_4': ['sclera'], '52/52L_l_4': ['sclera'], '52/52R_r_6': ['sclera'], '52/52L_r_1': ['sclera'], '52/52R_s_4': ['sclera'], '52/52L_l_5': ['sclera'], '52/52R_u_4': ['sclera'], '52/52L_l_3': ['sclera'], '52/52R_r_2': ['sclera'], '52/52R_r_5': ['sclera'], '47/47R_s_1': ['sclera'], '47/47L_l_4': ['sclera'], '47/47L_r_5': ['sclera'], '47/47R_r_4': ['sclera'], '47/47L_l_5': ['sclera'], '47/47L_r_2': ['sclera'], '47/47L_u_2': ['sclera'], '47/47R_s_3': ['sclera'], '47/47R_l_2': ['sclera'], '47/47R_r_2': ['sclera'], '47/47R_l_4': ['sclera'], '47/47R_r_5': ['sclera'], '47/47R_u_2': ['sclera'], '47/47L_s_3': ['sclera'], '47/47R_u_1': ['sclera'], '47/47L_u_4': ['sclera'], '47/47R_u_4': ['sclera'], '47/47R_r_3': ['sclera'], '47/47L_l_2': ['sclera'], '47/47R_s_2': ['sclera'], '47/47R_l_3': ['sclera'], '47/47L_u_1': ['sclera'], '47/47L_r_1': ['sclera'], '47/47R_l_1': ['sclera'], '47/47L_s_2': ['sclera'], '47/47L_u_3': ['sclera'], '47/47L_r_4': ['sclera'], '47/47L_l_1': ['sclera'], '47/47L_s_4': ['sclera'], '47/47R_u_3': ['sclera'], '47/47R_r_1': ['sclera'], '47/47R_r_6': ['sclera'], '47/47R_s_4': ['sclera'], '47/47L_l_3': ['sclera'], '47/47R_r_7': ['sclera'], '47/47L_r_3': ['sclera'], '47/47L_s_1': ['sclera'], '20/20R_l_4': ['sclera'], '20/20L_l_5': ['sclera'], '20/20R_r_1': ['sclera'], '20/20R_s_1': ['sclera'], '20/20L_r_4': ['sclera'], '20/20L_s_6': ['sclera'], '20/20L_u_4': ['sclera'], '20/20L_l_3': ['sclera'], '20/20L_l_1': ['sclera'], '20/20R_r_3': ['sclera'], '20/20R_r_4': ['sclera'], '20/20R_r_2': ['sclera'], '20/20L_r_2': ['sclera'], '20/20L_s_5': ['sclera'], '20/20L_l_4': ['sclera'], '20/20R_s_3': ['sclera'], '20/20L_s_7': ['sclera'], '20/20R_s_2': ['sclera'], '20/20L_l_2': ['sclera'], '20/20L_u_3': ['sclera'], '20/20R_l_3': ['sclera'], '20/20L_u_2': ['sclera'], '20/20L_s_4': ['sclera'], '20/20L_r_1': ['sclera'], '20/20R_u_3': ['sclera'], '20/20R_u_1': ['sclera'], '20/20L_u_1': ['sclera'], '20/20R_l_2': ['sclera'], '20/20R_l_1': ['sclera'], '20/20L_r_3': ['sclera'], '20/20L_s_3': ['sclera'], '20/20L_s_2': ['sclera'], '20/20R_u_2': ['sclera'], '20/20L_s_1': ['sclera'], '20/20R_u_4': ['sclera'], '20/20R_s_4': ['sclera'], '27/27R_s_4': ['sclera'], '27/27L_r_3': ['sclera'], '27/27L_u_1': ['sclera'], '27/27L_s_4': ['sclera'], '27/27R_l_5': ['sclera'], '27/27R_l_2': ['sclera'], '27/27L_s_3': ['sclera'], '27/27L_l_1': ['sclera'], '27/27R_l_3': ['sclera'], '27/27L_u_3': ['sclera'], '27/27L_s_1': ['sclera'], '27/27L_r_2': ['sclera'], '27/27R_l_1': ['sclera'], '27/27R_r_4': ['sclera'], '27/27L_s_5': ['sclera'], '27/27R_s_2': ['sclera'], '27/27L_u_6': ['sclera'], '27/27L_u_4': ['sclera'], '27/27L_l_2': ['sclera'], '27/27R_l_6': ['sclera'], '27/27L_u_5': ['sclera'], '27/27R_r_3': ['sclera'], '27/27L_s_2': ['sclera'], '27/27R_l_4': ['sclera'], '27/27R_s_3': ['sclera'], '27/27R_u_4': ['sclera'], '27/27L_l_4': ['sclera'], '27/27R_r_1': ['sclera'], '27/27R_u_1': ['sclera'], '27/27R_r_2': ['sclera'], '27/27R_u_3': ['sclera'], '27/27L_l_5': ['sclera'], '27/27L_l_3': ['sclera'], '27/27L_r_4': ['sclera'], '27/27L_u_2': ['sclera'], '27/27L_r_1': ['sclera'], '27/27R_s_1': ['sclera'], '27/27R_u_2': ['sclera'], '5/5L_r_1': ['sclera'], '5/5L_s_3': ['sclera'], '5/5R_r_2': ['sclera'], '5/5L_l_3': ['sclera'], '5/5R_r_3': ['sclera'], '5/5L_l_1': ['sclera'], '5/5R_u_3': ['sclera'], '5/5L_r_2': ['sclera'], '5/5L_u_3': ['sclera'], '5/5R_r_4': ['sclera'], '5/5L_r_4': ['sclera'], '5/5L_s_4': ['sclera'], '5/5R_u_4': ['sclera'], '5/5R_s_1': ['sclera'], '5/5L_l_4': ['sclera'], '5/5L_r_3': ['sclera'], '5/5R_s_2': ['sclera'], '5/5R_u_2': ['sclera'], '5/5R_l_2': ['sclera'], '5/5L_u_1': ['sclera'], '5/5R_l_3': ['sclera'], '5/5L_l_2': ['sclera'], '5/5L_u_2': ['sclera'], '5/5L_u_4': ['sclera'], '5/5R_s_4': ['sclera'], '5/5L_s_2': ['sclera'], '5/5L_s_1': ['sclera'], '5/5R_s_3': ['sclera'], '5/5R_l_1': ['sclera'], '5/5R_r_1': ['sclera'], '5/5R_u_1': ['sclera'], '5/5R_l_4': ['sclera'], '48/48R_u_2': ['sclera'], '48/48L_r_4': ['sclera'], '48/48R_s_1': ['sclera'], '48/48L_s_4': ['sclera'], '48/48R_l_2': ['sclera'], '48/48L_l_1': ['sclera'], '48/48R_r_2': ['sclera'], '48/48L_u_1': ['sclera'], '48/48R_u_4': ['sclera'], '48/48L_r_1': ['sclera'], '48/48L_u_2': ['sclera'], '48/48L_l_4': ['sclera'], '48/48L_s_5': ['sclera'], '48/48R_l_3': ['sclera'], '48/48R_r_5': ['sclera'], '48/48R_u_6': ['sclera'], '48/48L_s_3': ['sclera'], '48/48R_u_3': ['sclera'], '48/48R_u_5': ['sclera'], '48/48R_u_1': ['sclera'], '48/48L_u_3': ['sclera'], '48/48L_l_3': ['sclera'], '48/48L_s_2': ['sclera'], '48/48L_r_5': ['sclera'], '48/48R_s_3': ['sclera'], '48/48R_s_4': ['sclera'], '48/48R_r_1': ['sclera'], '48/48R_r_3': ['sclera'], '48/48L_s_1': ['sclera'], '48/48R_l_4': ['sclera'], '48/48R_l_1': ['sclera'], '48/48L_u_4': ['sclera'], '48/48R_s_2': ['sclera'], '48/48L_l_2': ['sclera'], '48/48L_r_3': ['sclera'], '48/48L_r_2': ['sclera'], '48/48R_r_4': ['sclera'], '12/12R_s_4': ['sclera'], '12/12L_s_1': ['sclera'], '12/12R_l_2': ['sclera'], '12/12R_s_3': ['sclera'], '12/12R_u_2': ['sclera'], '12/12R_u_1': ['sclera'], '12/12L_u_4': ['sclera'], '12/12R_r_4': ['sclera'], '12/12L_s_2': ['sclera'], '12/12L_u_5': ['sclera'], '12/12R_r_5': ['sclera'], '12/12L_l_2': ['sclera'], '12/12L_r_1': ['sclera'], '12/12L_u_3': ['sclera'], '12/12R_l_1': ['sclera'], '12/12L_u_2': ['sclera'], '12/12L_r_3': ['sclera'], '12/12R_s_1': ['sclera'], '12/12L_l_3': ['sclera'], '12/12L_l_1': ['sclera'], '12/12L_r_2': ['sclera'], '12/12R_r_2': ['sclera'], '12/12L_s_4': ['sclera'], '12/12R_r_1': ['sclera'], '12/12L_s_3': ['sclera'], '12/12R_l_3': ['sclera'], '12/12R_l_4': ['sclera'], '12/12R_r_8': ['sclera'], '12/12L_u_1': ['sclera'], '12/12R_r_6': ['sclera'], '12/12R_r_7': ['sclera'], '12/12R_u_4': ['sclera'], '12/12R_u_3': ['sclera'], '12/12R_r_3': ['sclera'], '12/12L_l_4': ['sclera'], '12/12R_s_2': ['sclera'], '12/12L_r_4': ['sclera'], '19/19L_u_3': ['sclera'], '19/19L_l_4': ['sclera'], '19/19R_s_6': ['sclera'], '19/19R_r_2': ['sclera'], '19/19R_u_4': ['sclera'], '19/19L_r_1': ['sclera'], '19/19R_l_2': ['sclera'], '19/19L_r_3': ['sclera'], '19/19L_r_2': ['sclera'], '19/19R_l_1': ['sclera'], '19/19L_u_4': ['sclera'], '19/19L_s_2': ['sclera'], '19/19R_r_3': ['sclera'], '19/19R_r_4': ['sclera'], '19/19L_r_4': ['sclera'], '19/19L_l_3': ['sclera'], '19/19R_s_4': ['sclera'], '19/19R_s_3': ['sclera'], '19/19L_l_2': ['sclera'], '19/19L_s_5': ['sclera'], '19/19L_s_3': ['sclera'], '19/19R_s_1': ['sclera'], '19/19L_u_2': ['sclera'], '19/19R_u_2': ['sclera'], '19/19R_l_4': ['sclera'], '19/19L_s_1': ['sclera'], '19/19R_s_5': ['sclera'], '19/19R_r_1': ['sclera'], '19/19R_u_1': ['sclera'], '19/19R_s_2': ['sclera'], '19/19R_l_5': ['sclera'], '19/19L_l_1': ['sclera'], '19/19L_s_4': ['sclera'], '19/19R_u_3': ['sclera'], '19/19L_u_1': ['sclera'], '19/19R_l_3': ['sclera'], '43/43R_l_3': ['sclera'], '43/43R_l_4': ['sclera'], '43/43L_s_3': ['sclera'], '43/43R_u_2': ['sclera'], '43/43R_r_4': ['sclera'], '43/43R_u_3': ['sclera'], '43/43L_r_5': ['sclera'], '43/43R_r_3': ['sclera'], '43/43R_u_1': ['sclera'], '43/43R_s_1': ['sclera'], '43/43L_u_3': ['sclera'], '43/43L_l_1': ['sclera'], '43/43L_u_1': ['sclera'], '43/43L_r_2': ['sclera'], '43/43R_s_4': ['sclera'], '43/43R_r_1': ['sclera'], '43/43L_l_4': ['sclera'], '43/43L_r_3': ['sclera'], '43/43L_s_4': ['sclera'], '43/43L_l_3': ['sclera'], '43/43L_s_1': ['sclera'], '43/43R_l_2': ['sclera'], '43/43R_s_3': ['sclera'], '43/43L_r_4': ['sclera'], '43/43L_r_1': ['sclera'], '43/43L_l_2': ['sclera'], '43/43R_r_2': ['sclera'], '43/43L_u_4': ['sclera'], '43/43L_s_2': ['sclera'], '43/43R_s_2': ['sclera'], '43/43R_l_1': ['sclera'], '43/43R_u_4': ['sclera'], '43/43L_u_2': ['sclera'], '37/37R_s_3': ['sclera'], '37/37R_l_3': ['sclera'], '37/37L_s_1': ['sclera'], '37/37L_l_3': ['sclera'], '37/37L_u_4': ['sclera'], '37/37L_s_2': ['sclera'], '37/37L_s_3': ['sclera'], '37/37R_r_4': ['sclera'], '37/37R_l_2': ['sclera'], '37/37L_s_4': ['sclera'], '37/37L_r_3': ['sclera'], '37/37R_l_4': ['sclera'], '37/37L_u_3': ['sclera'], '37/37L_r_2': ['sclera'], '37/37L_r_4': ['sclera'], '37/37L_l_5': ['sclera'], '37/37L_u_2': ['sclera'], '37/37L_l_4': ['sclera'], '37/37R_u_1': ['sclera'], '37/37R_l_1': ['sclera'], '37/37R_r_2': ['sclera'], '37/37R_s_1': ['sclera'], '37/37R_r_1': ['sclera'], '37/37R_u_2': ['sclera'], '37/37R_s_4': ['sclera'], '37/37R_r_3': ['sclera'], '37/37R_u_4': ['sclera'], '37/37R_u_3': ['sclera'], '37/37L_u_1': ['sclera'], '37/37R_s_2': ['sclera'], '37/37L_l_1': ['sclera'], '37/37L_r_5': ['sclera'], '37/37L_r_1': ['sclera'], '37/37L_l_2': ['sclera'], '38/38R_l_1': ['sclera'], '38/38L_s_3': ['sclera'], '38/38R_s_2': ['sclera'], '38/38L_s_5': ['sclera'], '38/38L_r_1': ['sclera'], '38/38R_r_4': ['sclera'], '38/38L_l_3': ['sclera'], '38/38L_s_1': ['sclera'], '38/38R_s_1': ['sclera'], '38/38R_l_3': ['sclera'], '38/38L_s_6': ['sclera'], '38/38R_s_4': ['sclera'], '38/38L_s_4': ['sclera'], '38/38R_u_1': ['sclera'], '38/38R_r_2': ['sclera'], '38/38L_u_3': ['sclera'], '38/38L_r_2': ['sclera'], '38/38R_u_2': ['sclera'], '38/38R_s_3': ['sclera'], '38/38L_l_1': ['sclera'], '38/38R_u_3': ['sclera'], '38/38L_l_4': ['sclera'], '38/38L_u_2': ['sclera'], '38/38L_r_3': ['sclera'], '38/38L_r_4': ['sclera'], '38/38L_l_2': ['sclera'], '38/38R_r_3': ['sclera'], '38/38L_u_4': ['sclera'], '38/38R_r_1': ['sclera'], '38/38L_s_2': ['sclera'], '38/38R_l_2': ['sclera'], '38/38L_u_1': ['sclera'], '38/38R_u_5': ['sclera'], '38/38R_u_4': ['sclera'], '38/38R_l_4': ['sclera'], '38/38R_r_5': ['sclera'], '54/54R_l_2': ['sclera'], '54/54L_l_4': ['sclera'], '54/54L_u_4': ['sclera'], '54/54R_u_4': ['sclera'], '54/54L_r_6': ['sclera'], '54/54R_s_2': ['sclera'], '54/54L_s_1': ['sclera'], '54/54L_l_2': ['sclera'], '54/54L_r_1': ['sclera'], '54/54R_s_4': ['sclera'], '54/54R_l_6': ['sclera'], '54/54L_u_3': ['sclera'], '54/54R_r_4': ['sclera'], '54/54R_l_7': ['sclera'], '54/54L_r_4': ['sclera'], '54/54L_r_3': ['sclera'], '54/54L_s_3': ['sclera'], '54/54R_r_3': ['sclera'], '54/54L_u_2': ['sclera'], '54/54R_u_1': ['sclera'], '54/54R_u_3': ['sclera'], '54/54R_l_1': ['sclera'], '54/54L_s_2': ['sclera'], '54/54R_l_5': ['sclera'], '54/54L_l_1': ['sclera'], '54/54L_r_2': ['sclera'], '54/54R_l_3': ['sclera'], '54/54L_u_1': ['sclera'], '54/54R_s_1': ['sclera'], '54/54R_l_4': ['sclera'], '54/54L_r_5': ['sclera'], '54/54R_u_2': ['sclera'], '54/54L_l_3': ['sclera'], '54/54L_s_4': ['sclera'], '54/54R_s_3': ['sclera'], '54/54R_r_2': ['sclera'], '54/54R_r_1': ['sclera'], '24/24L_u_1': ['sclera'], '24/24R_u_4': ['sclera'], '24/24R_u_3': ['sclera'], '24/24L_r_3': ['sclera'], '24/24L_l_3': ['sclera'], '24/24L_s_2': ['sclera'], '24/24L_s_3': ['sclera'], '24/24L_s_4': ['sclera'], '24/24R_s_3': ['sclera'], '24/24L_s_1': ['sclera'], '24/24R_u_1': ['sclera'], '24/24R_r_3': ['sclera'], '24/24R_l_2': ['sclera'], '24/24R_l_3': ['sclera'], '24/24R_r_2': ['sclera'], '24/24R_l_4': ['sclera'], '24/24R_r_1': ['sclera'], '24/24L_r_2': ['sclera'], '24/24L_l_4': ['sclera'], '24/24R_s_1': ['sclera'], '24/24L_u_2': ['sclera'], '24/24L_r_1': ['sclera'], '24/24R_s_2': ['sclera'], '24/24R_l_1': ['sclera'], '24/24L_u_4': ['sclera'], '24/24R_r_4': ['sclera'], '24/24R_s_4': ['sclera'], '24/24R_u_2': ['sclera'], '24/24L_u_3': ['sclera'], '24/24L_l_2': ['sclera'], '24/24L_r_4': ['sclera'], '24/24L_l_1': ['sclera'], '24/24L_l_5': ['sclera'], '31/31R_u_1': ['sclera'], '31/31R_l_2': ['sclera'], '31/31R_u_6': ['sclera'], '31/31L_r_1': ['sclera'], '31/31R_s_3': ['sclera'], '31/31R_u_5': ['sclera'], '31/31L_s_3': ['sclera'], '31/31L_s_2': ['sclera'], '31/31R_r_1': ['sclera'], '31/31L_u_4': ['sclera'], '31/31R_u_2': ['sclera'], '31/31L_r_3': ['sclera'], '31/31R_u_3': ['sclera'], '31/31R_l_4': ['sclera'], '31/31L_u_1': ['sclera'], '31/31R_r_2': ['sclera'], '31/31L_l_1': ['sclera'], '31/31L_u_2': ['sclera'], '31/31L_s_4': ['sclera'], '31/31R_r_4': ['sclera'], '31/31R_s_1': ['sclera'], '31/31L_r_2': ['sclera'], '31/31R_l_1': ['sclera'], '31/31R_s_4': ['sclera'], '31/31R_r_3': ['sclera'], '31/31L_s_1': ['sclera'], '31/31L_l_4': ['sclera'], '31/31L_l_3': ['sclera'], '31/31R_u_4': ['sclera'], '31/31R_l_3': ['sclera'], '31/31L_u_3': ['sclera'], '31/31R_s_2': ['sclera'], '31/31L_r_4': ['sclera'], '31/31L_l_2': ['sclera'], '22/22R_r_1': ['sclera'], '22/22R_s_3': ['sclera'], '22/22R_r_3': ['sclera'], '22/22L_u_2': ['sclera'], '22/22L_r_2': ['sclera'], '22/22L_s_4': ['sclera'], '22/22L_s_6': ['sclera'], '22/22L_r_3': ['sclera'], '22/22R_l_1': ['sclera'], '22/22L_l_4': ['sclera'], '22/22R_u_2': ['sclera'], '22/22R_u_4': ['sclera'], '22/22L_l_3': ['sclera'], '22/22R_r_2': ['sclera'], '22/22R_u_1': ['sclera'], '22/22L_s_2': ['sclera'], '22/22R_l_3': ['sclera'], '22/22R_r_4': ['sclera'], '22/22R_l_4': ['sclera'], '22/22L_u_4': ['sclera'], '22/22L_l_1': ['sclera'], '22/22R_s_4': ['sclera'], '22/22L_r_1': ['sclera'], '22/22R_l_5': ['sclera'], '22/22L_u_3': ['sclera'], '22/22L_s_5': ['sclera'], '22/22L_u_1': ['sclera'], '22/22R_l_2': ['sclera'], '22/22L_s_3': ['sclera'], '22/22R_u_3': ['sclera'], '22/22L_r_4': ['sclera'], '22/22R_s_1': ['sclera'], '22/22L_s_1': ['sclera'], '22/22L_l_2': ['sclera'], '22/22R_s_2': ['sclera'], '14/14R_u_3': ['sclera'], '14/14L_u_1': ['sclera'], '14/14L_l_1': ['sclera'], '14/14L_u_2': ['sclera'], '14/14R_s_2': ['sclera'], '14/14R_s_4': ['sclera'], '14/14L_r_4': ['sclera'], '14/14R_l_1': ['sclera'], '14/14L_l_3': ['sclera'], '14/14R_s_3': ['sclera'], '14/14L_s_4': ['sclera'], '14/14R_l_3': ['sclera'], '14/14L_r_2': ['sclera'], '14/14R_l_2': ['sclera'], '14/14L_u_3': ['sclera'], '14/14R_u_2': ['sclera'], '14/14R_s_1': ['sclera'], '14/14L_u_4': ['sclera'], '14/14R_r_4': ['sclera'], '14/14L_s_6': ['sclera'], '14/14R_r_1': ['sclera'], '14/14L_l_4': ['sclera'], '14/14R_u_1': ['sclera'], '14/14L_l_2': ['sclera'], '14/14R_r_2': ['sclera'], '14/14R_l_4': ['sclera'], '14/14L_r_3': ['sclera'], '14/14R_r_3': ['sclera'], '14/14L_s_2': ['sclera'], '14/14L_s_1': ['sclera'], '14/14R_u_5': ['sclera'], '14/14L_s_5': ['sclera'], '14/14R_u_4': ['sclera'], '14/14L_s_3': ['sclera'], '14/14L_r_1': ['sclera'], '10/10L_s_1': ['sclera'], '10/10R_u_3': ['sclera'], '10/10L_l_4': ['sclera'], '10/10L_s_7': ['sclera'], '10/10R_r_3': ['sclera'], '10/10L_s_6': ['sclera'], '10/10L_s_3': ['sclera'], '10/10L_u_3': ['sclera'], '10/10L_l_3': ['sclera'], '10/10R_s_2': ['sclera'], '10/10R_s_4': ['sclera'], '10/10L_s_4': ['sclera'], '10/10R_u_1': ['sclera'], '10/10R_l_4': ['sclera'], '10/10R_r_2': ['sclera'], '10/10R_l_1': ['sclera'], '10/10L_s_10': ['sclera'], '10/10R_l_3': ['sclera'], '10/10L_s_9': ['sclera'], '10/10L_l_2': ['sclera'], '10/10R_r_1': ['sclera'], '10/10R_u_5': ['sclera'], '10/10R_s_1': ['sclera'], '10/10R_r_4': ['sclera'], '10/10L_s_5': ['sclera'], '10/10L_r_4': ['sclera'], '10/10L_s_2': ['sclera'], '10/10L_u_2': ['sclera'], '10/10L_r_1': ['sclera'], '10/10R_s_3': ['sclera'], '10/10L_u_1': ['sclera'], '10/10L_s_8': ['sclera'], '10/10R_u_2': ['sclera'], '10/10L_r_3': ['sclera'], '10/10L_u_4': ['sclera'], '10/10L_l_1': ['sclera'], '10/10R_u_4': ['sclera'], '10/10R_l_5': ['sclera'], '10/10R_l_2': ['sclera'], '10/10L_r_2': ['sclera'], '53/53L_u_4': ['sclera'], '53/53R_r_3': ['sclera'], '53/53R_r_2': ['sclera'], '53/53L_r_4': ['sclera'], '53/53R_u_5': ['sclera'], '53/53R_l_5': ['sclera'], '53/53L_r_2': ['sclera'], '53/53R_l_1': ['sclera'], '53/53L_l_3': ['sclera'], '53/53R_s_3': ['sclera'], '53/53L_s_2': ['sclera'], '53/53L_r_5': ['sclera'], '53/53R_l_4': ['sclera'], '53/53R_u_2': ['sclera'], '53/53L_r_6': ['sclera'], '53/53L_r_8': ['sclera'], '53/53L_l_2': ['sclera'], '53/53L_r_7': ['sclera'], '53/53R_u_3': ['sclera'], '53/53L_s_4': ['sclera'], '53/53R_r_1': ['sclera'], '53/53R_s_1': ['sclera'], '53/53L_l_4': ['sclera'], '53/53L_l_1': ['sclera'], '53/53R_s_2': ['sclera'], '53/53L_s_3': ['sclera'], '53/53R_l_2': ['sclera'], '53/53R_u_1': ['sclera'], '53/53L_u_1': ['sclera'], '53/53R_l_6': ['sclera'], '53/53R_s_4': ['sclera'], '53/53L_s_1': ['sclera'], '53/53L_u_3': ['sclera'], '53/53R_r_4': ['sclera'], '53/53L_r_3': ['sclera'], '53/53L_r_1': ['sclera'], '53/53R_u_4': ['sclera'], '53/53R_l_3': ['sclera'], '53/53L_u_2': ['sclera'], '21/21R_s_2': ['sclera'], '21/21L_l_1': ['sclera'], '21/21L_s_3': ['sclera'], '21/21L_r_2': ['sclera'], '21/21L_r_4': ['sclera'], '21/21L_s_5': ['sclera'], '21/21L_u_3': ['sclera'], '21/21L_l_2': ['sclera'], '21/21L_l_4': ['sclera'], '21/21R_s_3': ['sclera'], '21/21L_l_3': ['sclera'], '21/21R_r_3': ['sclera'], '21/21L_s_1': ['sclera'], '21/21R_u_1': ['sclera'], '21/21L_u_5': ['sclera'], '21/21L_s_2': ['sclera'], '21/21R_s_4': ['sclera'], '21/21R_u_4': ['sclera'], '21/21R_r_2': ['sclera'], '21/21R_r_4': ['sclera'], '21/21R_s_1': ['sclera'], '21/21L_s_4': ['sclera'], '21/21R_r_1': ['sclera'], '21/21L_u_1': ['sclera'], '21/21L_u_4': ['sclera'], '21/21L_r_3': ['sclera'], '21/21R_u_3': ['sclera'], '21/21L_u_2': ['sclera'], '21/21R_u_2': ['sclera'], '21/21L_r_1': ['sclera'], '30/30L_r_4': ['sclera'], '30/30L_s_3': ['sclera'], '30/30R_l_5': ['sclera'], '30/30R_l_4': ['sclera'], '30/30R_s_1': ['sclera'], '30/30L_l_4': ['sclera'], '30/30R_r_1': ['sclera'], '30/30L_s_4': ['sclera'], '30/30L_r_3': ['sclera'], '30/30L_r_2': ['sclera'], '30/30L_u_4': ['sclera'], '30/30R_r_5': ['sclera'], '30/30L_s_2': ['sclera'], '30/30R_u_1': ['sclera'], '30/30R_r_2': ['sclera'], '30/30R_u_2': ['sclera'], '30/30L_r_5': ['sclera'], '30/30R_r_3': ['sclera'], '30/30L_u_1': ['sclera'], '30/30L_l_1': ['sclera'], '30/30R_u_3': ['sclera'], '30/30R_l_1': ['sclera'], '30/30R_l_3': ['sclera'], '30/30L_u_3': ['sclera'], '30/30L_s_1': ['sclera'], '30/30L_u_2': ['sclera'], '30/30R_s_2': ['sclera'], '30/30R_u_4': ['sclera'], '30/30R_l_2': ['sclera'], '30/30R_r_4': ['sclera'], '30/30L_l_2': ['sclera'], '30/30R_s_4': ['sclera'], '30/30R_s_3': ['sclera'], '30/30L_r_1': ['sclera'], '30/30L_l_3': ['sclera'], '30/30R_u_5': ['sclera'], '30/30L_s_5': ['sclera'], '39/39L_u_2': ['sclera'], '39/39L_s_2': ['sclera'], '39/39L_u_4': ['sclera'], '39/39L_r_4': ['sclera'], '39/39R_u_4': ['sclera'], '39/39L_r_2': ['sclera'], '39/39R_s_1': ['sclera'], '39/39R_s_3': ['sclera'], '39/39L_l_2': ['sclera'], '39/39R_u_1': ['sclera'], '39/39L_r_3': ['sclera'], '39/39R_u_2': ['sclera'], '39/39L_s_4': ['sclera'], '39/39R_l_2': ['sclera'], '39/39R_s_4': ['sclera'], '39/39L_u_3': ['sclera'], '39/39R_r_2': ['sclera'], '39/39R_r_4': ['sclera'], '39/39L_l_1': ['sclera'], '39/39L_r_1': ['sclera'], '39/39R_s_2': ['sclera'], '39/39R_r_5': ['sclera'], '39/39R_r_3': ['sclera'], '39/39L_u_1': ['sclera'], '39/39R_l_4': ['sclera'], '39/39R_l_1': ['sclera'], '39/39L_s_3': ['sclera'], '39/39L_l_3': ['sclera'], '39/39R_r_1': ['sclera'], '39/39L_s_1': ['sclera'], '39/39R_u_3': ['sclera'], '39/39R_l_3': ['sclera'], '39/39L_l_4': ['sclera'], '13/13R_r_1': ['sclera'], '13/13L_r_4': ['sclera'], '13/13R_s_3': ['sclera'], '13/13L_u_4': ['sclera'], '13/13L_s_1': ['sclera'], '13/13R_u_3': ['sclera'], '13/13R_s_4': ['sclera'], '13/13R_r_2': ['sclera'], '13/13L_l_1': ['sclera'], '13/13R_u_1': ['sclera'], '13/13L_r_2': ['sclera'], '13/13L_l_2': ['sclera'], '13/13R_s_5': ['sclera'], '13/13L_u_3': ['sclera'], '13/13L_u_2': ['sclera'], '13/13L_s_4': ['sclera'], '13/13L_r_3': ['sclera'], '13/13R_l_2': ['sclera'], '13/13R_s_2': ['sclera'], '13/13L_s_3': ['sclera'], '13/13L_l_4': ['sclera'], '13/13R_l_4': ['sclera'], '13/13L_l_3': ['sclera'], '13/13L_s_2': ['sclera'], '13/13R_l_1': ['sclera'], '13/13R_s_1': ['sclera'], '13/13L_u_1': ['sclera'], '13/13L_l_5': ['sclera'], '13/13R_r_4': ['sclera'], '13/13L_s_6': ['sclera'], '13/13L_l_6': ['sclera'], '13/13L_s_5': ['sclera'], '13/13R_l_3': ['sclera'], '13/13R_u_2': ['sclera'], '13/13L_r_1': ['sclera'], '13/13R_u_4': ['sclera'], '13/13R_r_3': ['sclera'], '50/50R_s_3': ['sclera'], '50/50L_s_1': ['sclera'], '50/50R_u_2': ['sclera'], '50/50L_u_4': ['sclera'], '50/50L_r_1': ['sclera'], '50/50R_s_1': ['sclera'], '50/50L_r_3': ['sclera'], '50/50R_r_2': ['sclera'], '50/50R_u_3': ['sclera'], '50/50L_l_2': ['sclera'], '50/50L_s_3': ['sclera'], '50/50L_r_5': ['sclera'], '50/50R_u_1': ['sclera'], '50/50R_l_1': ['sclera'], '50/50L_u_3': ['sclera'], '50/50R_s_5': ['sclera'], '50/50L_r_2': ['sclera'], '50/50R_u_4': ['sclera'], '50/50R_r_1': ['sclera'], '50/50R_r_3': ['sclera'], '50/50L_l_3': ['sclera'], '50/50L_l_4': ['sclera'], '50/50R_l_3': ['sclera'], '50/50L_s_2': ['sclera'], '50/50L_s_4': ['sclera'], '50/50L_u_1': ['sclera'], '50/50R_r_4': ['sclera'], '50/50L_r_6': ['sclera'], '50/50L_u_5': ['sclera'], '50/50L_r_4': ['sclera'], '50/50L_u_2': ['sclera'], '50/50R_l_4': ['sclera'], '50/50R_s_4': ['sclera'], '50/50L_l_1': ['sclera'], '50/50R_l_2': ['sclera'], '50/50R_s_2': ['sclera'], '34/34L_s_5': ['sclera'], '34/34L_u_5': ['sclera'], '34/34R_l_3': ['sclera'], '34/34R_u_4': ['sclera'], '34/34R_s_1': ['sclera'], '34/34R_s_8': ['sclera'], '34/34L_s_4': ['sclera'], '34/34R_s_9': ['sclera'], '34/34R_r_1': ['sclera'], '34/34L_r_3': ['sclera'], '34/34R_s_3': ['sclera'], '34/34L_u_3': ['sclera'], '34/34R_l_4': ['sclera'], '34/34L_u_1': ['sclera'], '34/34R_u_3': ['sclera'], '34/34L_s_6': ['sclera'], '34/34L_l_1': ['sclera'], '34/34L_r_1': ['sclera'], '34/34L_s_2': ['sclera'], '34/34L_r_5': ['sclera'], '34/34L_l_6': ['sclera'], '34/34R_s_7': ['sclera'], '34/34L_r_4': ['sclera'], '34/34R_u_2': ['sclera'], '34/34L_u_2': ['sclera'], '34/34L_u_4': ['sclera'], '34/34R_l_2': ['sclera'], '34/34R_s_5': ['sclera'], '34/34R_l_1': ['sclera'], '34/34R_u_1': ['sclera'], '34/34L_l_2': ['sclera'], '34/34R_s_2': ['sclera'], '34/34L_s_8': ['sclera'], '34/34L_s_3': ['sclera'], '34/34R_r_5': ['sclera'], '34/34R_r_4': ['sclera'], '34/34L_l_4': ['sclera'], '34/34L_s_1': ['sclera'], '34/34R_s_4': ['sclera'], '34/34R_s_6': ['sclera'], '34/34L_l_3': ['sclera'], '34/34R_r_3': ['sclera'], '34/34L_l_5': ['sclera'], '34/34R_r_2': ['sclera'], '34/34L_r_2': ['sclera'], '34/34L_s_7': ['sclera'], '34/34L_u_6': ['sclera'], '26/26L_r_3': ['sclera'], '26/26R_l_2': ['sclera'], '26/26R_r_4': ['sclera'], '26/26R_s_2': ['sclera'], '26/26L_r_2': ['sclera'], '26/26R_s_1': ['sclera'], '26/26L_l_3': ['sclera'], '26/26L_r_4': ['sclera'], '26/26L_s_3': ['sclera'], '26/26L_u_4': ['sclera'], '26/26L_s_4': ['sclera'], '26/26R_r_1': ['sclera'], '26/26R_u_4': ['sclera'], '26/26R_l_4': ['sclera'], '26/26R_r_2': ['sclera'], '26/26L_u_1': ['sclera'], '26/26L_l_2': ['sclera'], '26/26R_u_1': ['sclera'], '26/26L_s_2': ['sclera'], '26/26L_s_1': ['sclera'], '26/26R_s_4': ['sclera'], '26/26R_l_1': ['sclera'], '26/26R_l_3': ['sclera'], '26/26R_u_3': ['sclera'], '26/26L_r_1': ['sclera'], '26/26R_r_3': ['sclera'], '26/26L_u_2': ['sclera'], '26/26L_u_3': ['sclera'], '26/26R_u_2': ['sclera'], '26/26L_l_1': ['sclera'], '26/26L_l_4': ['sclera'], '26/26R_s_3': ['sclera'], '35/35L_l_4': ['sclera'], '35/35R_u_3': ['sclera'], '35/35L_l_3': ['sclera'], '35/35R_r_1': ['sclera'], '35/35R_r_2': ['sclera'], '35/35R_r_3': ['sclera'], '35/35R_u_4': ['sclera'], '35/35R_s_1': ['sclera'], '35/35L_l_1': ['sclera'], '35/35R_s_4': ['sclera'], '35/35L_s_4': ['sclera'], '35/35L_s_1': ['sclera'], '35/35L_r_4': ['sclera'], '35/35L_u_6': ['sclera'], '35/35L_r_3': ['sclera'], '35/35R_s_3': ['sclera'], '35/35L_r_1': ['sclera'], '35/35L_l_5': ['sclera'], '35/35L_u_4': ['sclera'], '35/35L_u_2': ['sclera'], '35/35R_r_4': ['sclera'], '35/35L_u_1': ['sclera'], '35/35R_s_2': ['sclera'], '35/35R_u_5': ['sclera'], '35/35L_s_2': ['sclera'], '35/35L_r_2': ['sclera'], '35/35R_l_2': ['sclera'], '35/35R_l_4': ['sclera'], '35/35L_s_3': ['sclera'], '35/35R_u_1': ['sclera'], '35/35L_l_2': ['sclera'], '35/35L_u_5': ['sclera'], '35/35L_u_3': ['sclera'], '35/35R_l_1': ['sclera'], '35/35R_l_3': ['sclera'], '35/35L_l_6': ['sclera'], '7/7L_r_3': ['sclera'], '7/7R_l_2': ['sclera'], '7/7L_s_1': ['sclera'], '7/7R_r_4': ['sclera'], '7/7R_l_1': ['sclera'], '7/7R_u_2': ['sclera'], '7/7L_u_2': ['sclera'], '7/7R_u_4': ['sclera'], '7/7R_r_1': ['sclera'], '7/7L_s_5': ['sclera'], '7/7R_s_3': ['sclera'], '7/7L_u_1': ['sclera'], '7/7L_l_4': ['sclera'], '7/7L_s_3': ['sclera'], '7/7R_r_2': ['sclera'], '7/7R_u_3': ['sclera'], '7/7L_s_2': ['sclera'], '7/7L_u_3': ['sclera'], '7/7R_u_1': ['sclera'], '7/7L_l_1': ['sclera'], '7/7L_s_4': ['sclera'], '7/7L_r_4': ['sclera'], '7/7L_l_3': ['sclera'], '7/7R_l_3': ['sclera'], '7/7L_s_6': ['sclera'], '7/7L_r_2': ['sclera'], '7/7R_s_1': ['sclera'], '7/7R_s_2': ['sclera'], '7/7R_r_3': ['sclera'], '7/7R_s_4': ['sclera'], '7/7L_u_4': ['sclera'], '7/7L_l_2': ['sclera'], '7/7R_l_4': ['sclera'], '7/7L_r_1': ['sclera']}\n"
     ]
    },
    {
     "name": "stderr",
     "output_type": "stream",
     "text": [
      "1840it [01:22, 22.38it/s]"
     ]
    },
    {
     "name": "stdout",
     "output_type": "stream",
     "text": [
      "0\n"
     ]
    },
    {
     "name": "stderr",
     "output_type": "stream",
     "text": [
      "\n"
     ]
    }
   ],
   "source": [
    "desired_segments = [\"sclera\"]\n",
    "\n",
    "target_folder = f\"SBVPI_{width}x{height}\"\n",
    "target_label_folder = f\"{target_folder}/labels/\"\n",
    "os.makedirs(target_label_folder, exist_ok=True)\n",
    "\n",
    "mask_files_folder = f\"{parent_folder}\"\n",
    "# mask_files = []\n",
    "mask_file_dict = {}\n",
    "for sub in os.listdir(mask_files_folder):\n",
    "    for mask_file in os.listdir(os.path.join(mask_files_folder, sub)):\n",
    "        if mask_file.split(\"_\")[-1].split(\".\")[0] not in desired_segments:\n",
    "            continue \n",
    "        \n",
    "        img_id = sub + \"/\" + \"_\".join(mask_file.split(\".png\")[0].split(\"_\")[:-1])\n",
    "        img_mask_name = mask_file.split(\"/\")[-1].split(\".png\")[0].split(\"_\")[-1]\n",
    "        \n",
    "        if img_id in mask_file_dict:\n",
    "            mask_file_dict[img_id].append(img_mask_name)\n",
    "\n",
    "        else: \n",
    "            mask_file_dict[img_id] = [img_mask_name]\n",
    "            \n",
    "        # img_id = img_path.split(\"/\")[-1].split(\".jpg\")[0]#.split(\"_\")[:-1]\n",
    "        # mask_file_dict[img_id] = []\n",
    "\n",
    "print(mask_file_dict)\n",
    "\n",
    "\n",
    "how_many_missing = 0 \n",
    "\n",
    "for x, img_path in tqdm(enumerate(mask_file_dict.keys())):\n",
    "    \n",
    "    img = None \n",
    "    num_segments = 0\n",
    "    for seg_id, seg in enumerate(desired_segments):\n",
    "        num_segments += 1\n",
    "\n",
    "        mask_name = mask_files_folder + \"/\"+  img_path + \"_\" +  seg + \".png\"\n",
    "\n",
    "        tmp_img = Image.open(mask_name)\n",
    "        tmp_img = tmp_img.convert(\"L\")\n",
    "        tmp_img = np.array(tmp_img)\n",
    "        tmp_img = (tmp_img / 255) * (seg_id+1)\n",
    "    \n",
    "        tmp_img = Image.fromarray(tmp_img)\n",
    "        tmp_img = tmp_img.resize((height, width), resample= Image.NEAREST)\n",
    "        tmp_img = np.array(tmp_img)\n",
    "        \n",
    "        try:\n",
    "            img += tmp_img\n",
    "            img = np.clip(img, 0, (seg_id+1))\n",
    "        except:\n",
    "            img = tmp_img \n",
    "\n",
    "    #print(np.unique(img))\n",
    "    img_new = np.zeros((img.shape[0], img.shape[1], 3), dtype=np.uint8) \n",
    "    img_new[img == 1] = [255, 0, 0] # red\n",
    "    img_new[img == 2] = [0, 255, 0]\n",
    "    img_new[img == 3] = [0, 0, 255]\n",
    "    \n",
    "    #print(np.unique(img_new))\n",
    "    img_new = Image.fromarray(img_new)\n",
    "    \n",
    "    tar_path = os.path.join(target_label_folder, f\"{img_path.replace('/', '_')}.png\")\n",
    "    img_new.save(tar_path,  quality=100, subsampling=0) # TODO care for quality! \n",
    "    # break\n",
    " \n",
    "print(how_many_missing)"
   ]
  },
  {
   "cell_type": "code",
   "execution_count": 24,
   "metadata": {},
   "outputs": [
    {
     "name": "stdout",
     "output_type": "stream",
     "text": [
      "2_2R_l_4.png\n",
      "2_2R_u_3.png\n",
      "2_2R_r_3.png\n",
      "2_2R_u_4.png\n",
      "2_2R_l_3.png\n",
      "2_2R_s_3.png\n",
      "2_2L_s_3.png\n",
      "2_2L_r_3.png\n",
      "2_2L_u_3.png\n",
      "2_2R_s_4.png\n",
      "2_2L_u_4.png\n",
      "2_2L_s_4.png\n",
      "2_2L_r_4.png\n",
      "2_2L_l_4.png\n",
      "2_2R_r_4.png\n",
      "2_2L_l_3.png\n"
     ]
    }
   ],
   "source": [
    "# Remove samples that do not have a label\n",
    "sub = \"images\"\n",
    "label_sub = \"labels\"\n",
    "\n",
    "dst_folder = \"SBVPI_300x400\"\n",
    "filenames =  os.listdir(os.path.join(dst_folder, sub))\n",
    "label_filenames = os.listdir(os.path.join(dst_folder, label_sub))\n",
    "\n",
    "for file in (filenames):\n",
    "    if file not in label_filenames:\n",
    "        print(file)\n",
    "        os.remove(os.path.join(dst_folder, sub, file))\n",
    "\n"
   ]
  },
  {
   "cell_type": "code",
   "execution_count": null,
   "metadata": {},
   "outputs": [],
   "source": []
  },
  {
   "cell_type": "code",
   "execution_count": null,
   "metadata": {},
   "outputs": [],
   "source": []
  },
  {
   "cell_type": "code",
   "execution_count": null,
   "metadata": {},
   "outputs": [],
   "source": []
  }
 ],
 "metadata": {
  "kernelspec": {
   "display_name": "ArcBiFaceGAN",
   "language": "python",
   "name": "python3"
  },
  "language_info": {
   "codemirror_mode": {
    "name": "ipython",
    "version": 3
   },
   "file_extension": ".py",
   "mimetype": "text/x-python",
   "name": "python",
   "nbconvert_exporter": "python",
   "pygments_lexer": "ipython3",
   "version": "3.8.12"
  },
  "orig_nbformat": 4
 },
 "nbformat": 4,
 "nbformat_minor": 2
}
