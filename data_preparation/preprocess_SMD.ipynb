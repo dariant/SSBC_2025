{
 "cells": [
  {
   "cell_type": "code",
   "execution_count": null,
   "metadata": {},
   "outputs": [
    {
     "name": "stderr",
     "output_type": "stream",
     "text": [
      "100%|██████████| 49/49 [00:00<00:00, 1233.83it/s]\n",
      "100%|██████████| 49/49 [00:00<00:00, 24791.42it/s]\n"
     ]
    }
   ],
   "source": [
    "import os \n",
    "from PIL import Image \n",
    "import shutil \n",
    "import numpy as np \n",
    "from tqdm import tqdm \n",
    "\n",
    "folder = \"/media/darian/Storage_0/Ocular_datasets/ocular_datasets/SMD\"\n",
    "height, width = 400, 300\n",
    "dst_folder = f\"SMD_{width}x{height}\"\n",
    "\n",
    "subfolders = [\"Images\", \"Masks\"]\n",
    "new_subs = [\"images\", \"labels\"]\n",
    "\n",
    "for s, sub in enumerate(subfolders):    \n",
    "    all_people = os.listdir(os.path.join(folder, sub))\n",
    "    os.makedirs(os.path.join(dst_folder, new_subs[s]), exist_ok=True)\n",
    "    \n",
    "    for i in tqdm(all_people): \n",
    "        filenames=  os.listdir(os.path.join(folder, sub, i))\n",
    "        for file in (filenames):\n",
    "            tmp_src = os.path.join(folder, sub, i,  file)\n",
    "            \n",
    "            tmp_dst = os.path.join(dst_folder, new_subs[s], f\"{i}_{file}\") \n",
    "            if os.path.exists(tmp_dst):\n",
    "                continue\n",
    "\n",
    "            img = Image.open(tmp_src)\n",
    "            \n",
    "            if sub == \"Masks\":\n",
    "                img = img.convert(\"RGB\")\n",
    "                img = img.resize((height, width), resample=Image.NEAREST)\n",
    "                img = np.asarray(img)\n",
    "                img[:, :, 1] = 0\n",
    "                img[:, :, 2] = 0\n",
    "\n",
    "                img = Image.fromarray(img)\n",
    "\n",
    "                \n",
    "            else:\n",
    "                tmp_dst = tmp_dst.replace(\".jpg\", \".png\")\n",
    "                if os.path.exists(tmp_dst):\n",
    "                    continue\n",
    "                img = img.resize((height, width))\n",
    "                \n",
    "             \n",
    "            img.save(tmp_dst)\n",
    "\n",
    "            #break\n",
    "            \n",
    "        # break \n"
   ]
  },
  {
   "cell_type": "code",
   "execution_count": null,
   "metadata": {},
   "outputs": [],
   "source": [
    "# Remove samples that do not have a label\n",
    "sub = \"images\"\n",
    "label_sub = \"labels\"\n",
    "\n",
    "filenames =  os.listdir(os.path.join(dst_folder, sub))\n",
    "label_filenames = os.listdir(os.path.join(dst_folder, label_sub))\n",
    "\n",
    "for file in (filenames):\n",
    "    if file not in label_filenames:\n",
    "        print(file)\n",
    "        os.remove(os.path.join(dst_folder, sub, file))\n",
    "\n"
   ]
  }
 ],
 "metadata": {
  "kernelspec": {
   "display_name": "ArcBiFaceGAN",
   "language": "python",
   "name": "python3"
  },
  "language_info": {
   "codemirror_mode": {
    "name": "ipython",
    "version": 3
   },
   "file_extension": ".py",
   "mimetype": "text/x-python",
   "name": "python",
   "nbconvert_exporter": "python",
   "pygments_lexer": "ipython3",
   "version": "3.8.12"
  },
  "orig_nbformat": 4
 },
 "nbformat": 4,
 "nbformat_minor": 2
}
